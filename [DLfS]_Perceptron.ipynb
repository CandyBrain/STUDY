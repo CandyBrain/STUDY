{
 "cells": [
  {
   "cell_type": "markdown",
   "id": "ae9c5cd8",
   "metadata": {},
   "source": [
    "## Perceptron: AND gate"
   ]
  },
  {
   "cell_type": "code",
   "execution_count": 21,
   "id": "d6cccf52",
   "metadata": {},
   "outputs": [],
   "source": [
    "def AND(x1, x2):\n",
    "    w1, w2, theta = 0.6, 0.6, 0.9\n",
    "    tmp = x1*w1 + x2*w2\n",
    "    \n",
    "    if tmp <= theta:\n",
    "        return 0\n",
    "    elif tmp > theta:\n",
    "        return 1"
   ]
  },
  {
   "cell_type": "code",
   "execution_count": 22,
   "id": "0f9151e2",
   "metadata": {},
   "outputs": [
    {
     "name": "stdout",
     "output_type": "stream",
     "text": [
      "0\n",
      "0\n",
      "0\n",
      "1\n"
     ]
    }
   ],
   "source": [
    "print(AND(0, 0))\n",
    "print(AND(0, 1))\n",
    "print(AND(1, 0))\n",
    "print(AND(1, 1))"
   ]
  },
  {
   "cell_type": "markdown",
   "id": "c13d2bf9",
   "metadata": {},
   "source": [
    "## Perceptron: Bias"
   ]
  },
  {
   "cell_type": "code",
   "execution_count": 26,
   "id": "69fca7a1",
   "metadata": {},
   "outputs": [
    {
     "data": {
      "text/plain": [
       "-0.19999999999999996"
      ]
     },
     "execution_count": 26,
     "metadata": {},
     "output_type": "execute_result"
    }
   ],
   "source": [
    "import numpy as np\n",
    "\n",
    "# 입력\n",
    "x = np.array([0, 1])\n",
    "\n",
    "# 가중치\n",
    "w = np.array([0.5, 0.5])\n",
    "\n",
    "# 편향\n",
    "b = -0.7 \n",
    "\n",
    "\n",
    "result = np.sum(w*x) + b\n",
    "result"
   ]
  },
  {
   "cell_type": "code",
   "execution_count": 34,
   "id": "b8ac559d",
   "metadata": {},
   "outputs": [],
   "source": [
    "def AND(x1, x2):\n",
    "    x = np.array([x1, x2])\n",
    "    w = np.array([0.5, 0.5])\n",
    "    b = -0.7\n",
    "    \n",
    "    tmp = np.sum(w*x)+b\n",
    "    \n",
    "    if tmp <= 0:\n",
    "        return 0\n",
    "    else:\n",
    "        return 1"
   ]
  },
  {
   "cell_type": "code",
   "execution_count": 35,
   "id": "4f58dad2",
   "metadata": {},
   "outputs": [
    {
     "name": "stdout",
     "output_type": "stream",
     "text": [
      "0\n",
      "0\n",
      "0\n",
      "1\n"
     ]
    }
   ],
   "source": [
    "print(AND(0, 0))\n",
    "print(AND(0, 1))\n",
    "print(AND(1, 0))\n",
    "print(AND(1, 1))"
   ]
  },
  {
   "cell_type": "code",
   "execution_count": 50,
   "id": "da7555c8",
   "metadata": {},
   "outputs": [],
   "source": [
    "def NAND(x1, x2):\n",
    "    x = np.array([x1, x2])\n",
    "    w = np.array([-0.5, -0.5])\n",
    "    b = 0.7\n",
    "    \n",
    "    tmp = np.sum(w*x)+b\n",
    "    \n",
    "    if tmp <= 0:\n",
    "        return 0\n",
    "    else:\n",
    "        return 1\n",
    "    \n",
    "def OR(x1, x2):\n",
    "    x = np.array([x1, x2])\n",
    "    w = np.array([0.5, 0.5])\n",
    "    b = -0.2\n",
    "    \n",
    "    tmp = np.sum(w*x)+b\n",
    "    \n",
    "    if tmp <= 0:\n",
    "        return 0\n",
    "    else:\n",
    "        return 1"
   ]
  },
  {
   "cell_type": "code",
   "execution_count": 51,
   "id": "d9dfcc59",
   "metadata": {},
   "outputs": [
    {
     "name": "stdout",
     "output_type": "stream",
     "text": [
      "NAND 1\n",
      "NAND 1\n",
      "NAND 1\n",
      "NAND 0\n",
      "OR 0\n",
      "OR 1\n",
      "OR 1\n",
      "OR 1\n"
     ]
    }
   ],
   "source": [
    "print('NAND', NAND(0, 0))\n",
    "print('NAND', NAND(0, 1))\n",
    "print('NAND', NAND(1, 0))\n",
    "print('NAND', NAND(1, 1))\n",
    "\n",
    "print('OR', OR(0, 0))\n",
    "print('OR', OR(0, 1))\n",
    "print('OR', OR(1, 0))\n",
    "print('OR', OR(1, 1))"
   ]
  },
  {
   "cell_type": "code",
   "execution_count": null,
   "id": "ff60dcaa",
   "metadata": {},
   "outputs": [],
   "source": []
  },
  {
   "cell_type": "code",
   "execution_count": null,
   "id": "187e3206",
   "metadata": {},
   "outputs": [],
   "source": []
  },
  {
   "cell_type": "code",
   "execution_count": null,
   "id": "c2e5cfa2",
   "metadata": {},
   "outputs": [],
   "source": []
  },
  {
   "cell_type": "code",
   "execution_count": null,
   "id": "b1084e80",
   "metadata": {},
   "outputs": [],
   "source": []
  },
  {
   "cell_type": "code",
   "execution_count": null,
   "id": "5f1930a0",
   "metadata": {},
   "outputs": [],
   "source": []
  }
 ],
 "metadata": {
  "kernelspec": {
   "display_name": "Python 3 (ipykernel)",
   "language": "python",
   "name": "python3"
  },
  "language_info": {
   "codemirror_mode": {
    "name": "ipython",
    "version": 3
   },
   "file_extension": ".py",
   "mimetype": "text/x-python",
   "name": "python",
   "nbconvert_exporter": "python",
   "pygments_lexer": "ipython3",
   "version": "3.9.7"
  }
 },
 "nbformat": 4,
 "nbformat_minor": 5
}
