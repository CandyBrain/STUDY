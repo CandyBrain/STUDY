{
 "cells": [
  {
   "cell_type": "code",
   "execution_count": 36,
   "id": "30ec57ab",
   "metadata": {},
   "outputs": [],
   "source": [
    "import pandas as pd\n",
    "import numpy as np"
   ]
  },
  {
   "cell_type": "markdown",
   "id": "446c780b",
   "metadata": {},
   "source": [
    "### values를 통해서 배열 값 획득"
   ]
  },
  {
   "cell_type": "code",
   "execution_count": 11,
   "id": "f8b8a2ba",
   "metadata": {},
   "outputs": [
    {
     "data": {
      "text/plain": [
       "array([ 4,  7, -5,  3])"
      ]
     },
     "execution_count": 11,
     "metadata": {},
     "output_type": "execute_result"
    }
   ],
   "source": [
    "obj.values"
   ]
  },
  {
   "cell_type": "markdown",
   "id": "3447548a",
   "metadata": {},
   "source": [
    "### index를 통해서 index 객체 획득"
   ]
  },
  {
   "cell_type": "code",
   "execution_count": 12,
   "id": "3064f871",
   "metadata": {},
   "outputs": [
    {
     "data": {
      "text/plain": [
       "RangeIndex(start=0, stop=4, step=1)"
      ]
     },
     "execution_count": 12,
     "metadata": {},
     "output_type": "execute_result"
    }
   ],
   "source": [
    "obj.index"
   ]
  },
  {
   "cell_type": "markdown",
   "id": "88c07719",
   "metadata": {},
   "source": [
    "### index를 지정해서 객체 생성"
   ]
  },
  {
   "cell_type": "code",
   "execution_count": 13,
   "id": "bd3c274f",
   "metadata": {},
   "outputs": [
    {
     "data": {
      "text/plain": [
       "d    4\n",
       "b    7\n",
       "a   -5\n",
       "c    3\n",
       "dtype: int64"
      ]
     },
     "execution_count": 13,
     "metadata": {},
     "output_type": "execute_result"
    }
   ],
   "source": [
    "obj = pd.Series([4, 7, -5, 3])\n",
    "obj2 = pd.Series([4, 7, -5, 3], index=['d', 'b', 'a', 'c'])\n",
    "obj2"
   ]
  },
  {
   "cell_type": "code",
   "execution_count": 19,
   "id": "e07a65aa",
   "metadata": {},
   "outputs": [
    {
     "data": {
      "text/plain": [
       "Index(['d', 'b', 'a', 'c'], dtype='object')"
      ]
     },
     "execution_count": 19,
     "metadata": {},
     "output_type": "execute_result"
    }
   ],
   "source": [
    "obj2.index # obj2 의 인덱스값 확인"
   ]
  },
  {
   "cell_type": "code",
   "execution_count": 20,
   "id": "547b0257",
   "metadata": {},
   "outputs": [
    {
     "data": {
      "text/plain": [
       "-5"
      ]
     },
     "execution_count": 20,
     "metadata": {},
     "output_type": "execute_result"
    }
   ],
   "source": [
    "obj2['a'] # ojb2의 인덱스 'a'의 값 확인"
   ]
  },
  {
   "cell_type": "code",
   "execution_count": 33,
   "id": "96c80b86",
   "metadata": {},
   "outputs": [
    {
     "data": {
      "text/plain": [
       "-5"
      ]
     },
     "execution_count": 33,
     "metadata": {},
     "output_type": "execute_result"
    }
   ],
   "source": [
    "obj2[2]"
   ]
  },
  {
   "cell_type": "code",
   "execution_count": 28,
   "id": "88a3c2ed",
   "metadata": {
    "scrolled": true
   },
   "outputs": [
    {
     "data": {
      "text/plain": [
       "c    3\n",
       "a   -5\n",
       "b    7\n",
       "dtype: int64"
      ]
     },
     "execution_count": 28,
     "metadata": {},
     "output_type": "execute_result"
    }
   ],
   "source": [
    "obj2[['c', 'a', 'b']]"
   ]
  },
  {
   "cell_type": "markdown",
   "id": "08abd506",
   "metadata": {},
   "source": [
    "### obj2의 원소중에서 0보다 큰것은? "
   ]
  },
  {
   "cell_type": "code",
   "execution_count": 31,
   "id": "b856f5aa",
   "metadata": {},
   "outputs": [
    {
     "data": {
      "text/plain": [
       "0     True\n",
       "1     True\n",
       "2    False\n",
       "3     True\n",
       "dtype: bool"
      ]
     },
     "execution_count": 31,
     "metadata": {},
     "output_type": "execute_result"
    }
   ],
   "source": [
    "obj>0 # 이런식으로 불리안으로 해당 인덱스에 결과가 나온다."
   ]
  },
  {
   "cell_type": "code",
   "execution_count": 30,
   "id": "7f395c7f",
   "metadata": {},
   "outputs": [
    {
     "data": {
      "text/plain": [
       "d    4\n",
       "b    7\n",
       "c    3\n",
       "dtype: int64"
      ]
     },
     "execution_count": 30,
     "metadata": {},
     "output_type": "execute_result"
    }
   ],
   "source": [
    "obj2[obj2>0] # 조건을 만족하는 데이터만 내놓아라 (불리언 조건식이 True인 것만 출력하는 메커니즘), 이렇게 해도 인덱스 연결이 유지 된다."
   ]
  },
  {
   "cell_type": "code",
   "execution_count": 34,
   "id": "6134e94e",
   "metadata": {},
   "outputs": [
    {
     "data": {
      "text/plain": [
       "d     8\n",
       "b    14\n",
       "a   -10\n",
       "c     6\n",
       "dtype: int64"
      ]
     },
     "execution_count": 34,
     "metadata": {},
     "output_type": "execute_result"
    }
   ],
   "source": [
    "obj2*2 # 곱하기 연산을 해도 인덱스 연결이 유지된다. "
   ]
  },
  {
   "cell_type": "code",
   "execution_count": 37,
   "id": "5288c88c",
   "metadata": {},
   "outputs": [
    {
     "data": {
      "text/plain": [
       "d      54.598150\n",
       "b    1096.633158\n",
       "a       0.006738\n",
       "c      20.085537\n",
       "dtype: float64"
      ]
     },
     "execution_count": 37,
     "metadata": {},
     "output_type": "execute_result"
    }
   ],
   "source": [
    "np.exp(obj2)"
   ]
  },
  {
   "cell_type": "markdown",
   "id": "8cd0474a",
   "metadata": {},
   "source": [
    "Series를 이해 하는 다른 방법. 고정 길이의 정렬된 딕셔너리타입, 파이썬의 딕셔너리타입을 인자로 받아야 하는 많은 함수에서 딕셔너리타입을 대체하여 사용가능"
   ]
  },
  {
   "cell_type": "code",
   "execution_count": 40,
   "id": "0725e323",
   "metadata": {},
   "outputs": [
    {
     "data": {
      "text/plain": [
       "True"
      ]
     },
     "execution_count": 40,
     "metadata": {},
     "output_type": "execute_result"
    }
   ],
   "source": [
    "'c' in obj2"
   ]
  },
  {
   "cell_type": "markdown",
   "id": "74bb5789",
   "metadata": {},
   "source": [
    "파이썬 딕셔러니객체로 부터 Series객체를 생성할 수 있다."
   ]
  },
  {
   "cell_type": "code",
   "execution_count": 49,
   "id": "1dc4e525",
   "metadata": {},
   "outputs": [
    {
     "data": {
      "text/plain": [
       "pandas.core.series.Series"
      ]
     },
     "execution_count": 49,
     "metadata": {},
     "output_type": "execute_result"
    }
   ],
   "source": [
    "sdata = {'Ohio': 35000, 'Tesas': 12000, 'Oregon': 11300, 'Utha': 5000}\n",
    "type(sdata)\n",
    "\n",
    "obj4 = pd.Series(sdata)\n",
    "obj4\n",
    "    \n",
    "type(obj4)\n"
   ]
  },
  {
   "cell_type": "code",
   "execution_count": null,
   "id": "1ce0efed",
   "metadata": {},
   "outputs": [],
   "source": []
  },
  {
   "cell_type": "code",
   "execution_count": 3,
   "id": "7d75c253",
   "metadata": {},
   "outputs": [
    {
     "data": {
      "text/plain": [
       "'2.6.0'"
      ]
     },
     "execution_count": 3,
     "metadata": {},
     "output_type": "execute_result"
    }
   ],
   "source": [
    "tf.__version__"
   ]
  }
 ],
 "metadata": {
  "kernelspec": {
   "display_name": "Python 3 (ipykernel)",
   "language": "python",
   "name": "python3"
  },
  "language_info": {
   "codemirror_mode": {
    "name": "ipython",
    "version": 3
   },
   "file_extension": ".py",
   "mimetype": "text/x-python",
   "name": "python",
   "nbconvert_exporter": "python",
   "pygments_lexer": "ipython3",
   "version": "3.9.7"
  }
 },
 "nbformat": 4,
 "nbformat_minor": 5
}
